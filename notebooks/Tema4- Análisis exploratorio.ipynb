{
 "cells": [
  {
   "cell_type": "markdown",
   "metadata": {},
   "source": [
    "# Tema 4\n",
    "\n",
    "## Análisis estadístico exploratorio"
   ]
  },
  {
   "cell_type": "markdown",
   "metadata": {},
   "source": [
    "El análsis estadístico exploratorio permite conocer los datos con los que vamos a trabajar.\n",
    "\n",
    "Explorar los datos consiste principalmente en las actividades de manipulación, resumen, y visualización de datos. \n",
    "\n",
    "El objetivo de este práctico, es el de afianzar los conceptos relacionados con la estadística descriptiva en R. \n",
    "\n",
    "Esta libreta se organiza de la siguiente manera:\n",
    "\n",
    "1. Medidas descriptivas en R\n",
    "2. Normalización de variables\n",
    "3. Visualización de datos"
   ]
  },
  {
   "cell_type": "markdown",
   "metadata": {},
   "source": [
    "### 1. Medidas descriptivas en R"
   ]
  },
  {
   "cell_type": "markdown",
   "metadata": {},
   "source": [
    "La primera aproximación en estadística descriptiva tiene que ver con lo que se denominan medidas de descriptivas, las cuales incluyen medidas de centralización y de dispersión.\n"
   ]
  },
  {
   "cell_type": "markdown",
   "metadata": {},
   "source": [
    "\n",
    " |Medidas          |Estadístico             |Función    |\n",
    " |:----------------|:-----------------------|:----------|\n",
    " |Tendencia central|Media aritmética        |`mean`     |\n",
    " |                 |Mediana                 |`median`   |\n",
    " |                 |Moda                    |No definida|\n",
    " |Dispersión       |Varianza                |`var`      |\n",
    " |                 |Desvío estandar         |`sd`       |\n",
    " |                 |Rango                   |`range`    |\n",
    " |                 |Coeficiente de variación|No definida|"
   ]
  },
  {
   "cell_type": "markdown",
   "metadata": {},
   "source": [
    "Comencemos definiendo un conjunto de datos de **variables numéricas**. "
   ]
  },
  {
   "cell_type": "code",
   "execution_count": 1,
   "metadata": {
    "collapsed": true
   },
   "outputs": [],
   "source": [
    "v <- sample(1:5, 10, replace = TRUE)"
   ]
  },
  {
   "cell_type": "markdown",
   "metadata": {},
   "source": [
    "Observemos que el vector es generado con 10 elementos numéricos enteros `1:5` del 1 al 5. Finalmente, el parámetro `replace = TRUE` indica a la función `sample` que la muestra se realice con reemplazo.\n",
    "\n",
    "De esta manera, nuestro vector queda definido como"
   ]
  },
  {
   "cell_type": "code",
   "execution_count": 72,
   "metadata": {
    "scrolled": true
   },
   "outputs": [
    {
     "data": {
      "text/html": [
       "<ol class=list-inline>\n",
       "\t<li>1</li>\n",
       "\t<li>2</li>\n",
       "\t<li>2</li>\n",
       "\t<li>2</li>\n",
       "\t<li>5</li>\n",
       "\t<li>2</li>\n",
       "\t<li>3</li>\n",
       "\t<li>3</li>\n",
       "\t<li>2</li>\n",
       "\t<li>2</li>\n",
       "</ol>\n"
      ],
      "text/latex": [
       "\\begin{enumerate*}\n",
       "\\item 1\n",
       "\\item 2\n",
       "\\item 2\n",
       "\\item 2\n",
       "\\item 5\n",
       "\\item 2\n",
       "\\item 3\n",
       "\\item 3\n",
       "\\item 2\n",
       "\\item 2\n",
       "\\end{enumerate*}\n"
      ],
      "text/markdown": [
       "1. 1\n",
       "2. 2\n",
       "3. 2\n",
       "4. 2\n",
       "5. 5\n",
       "6. 2\n",
       "7. 3\n",
       "8. 3\n",
       "9. 2\n",
       "10. 2\n",
       "\n",
       "\n"
      ],
      "text/plain": [
       " [1] 1 2 2 2 5 2 3 3 2 2"
      ]
     },
     "metadata": {},
     "output_type": "display_data"
    }
   ],
   "source": [
    "v"
   ]
  },
  {
   "cell_type": "markdown",
   "metadata": {},
   "source": [
    "Ahora veamos algunas de las **medidas de tendencia central** para los datos contenidos en nuetro vector. "
   ]
  },
  {
   "cell_type": "code",
   "execution_count": 73,
   "metadata": {},
   "outputs": [
    {
     "data": {
      "text/html": [
       "2.4"
      ],
      "text/latex": [
       "2.4"
      ],
      "text/markdown": [
       "2.4"
      ],
      "text/plain": [
       "[1] 2.4"
      ]
     },
     "metadata": {},
     "output_type": "display_data"
    }
   ],
   "source": [
    "mean(v)"
   ]
  },
  {
   "cell_type": "markdown",
   "metadata": {},
   "source": [
    "median(v)"
   ]
  },
  {
   "cell_type": "markdown",
   "metadata": {},
   "source": [
    "La moda no se encuentra definida en R. Sin embargo, es posible implementar una función para esta medida en forma sencilla. \n",
    "\n",
    "Para ello podemos usar las funciones `table` y `names`, donde la primera nos permite generar una estructura de tabla a partir de un conjunto de datos, y la segunda nos permite obtener los nombres de los elementos contenidos en dicha estructura."
   ]
  },
  {
   "cell_type": "markdown",
   "metadata": {},
   "source": [
    "En el ejemplo, `table` genera una [tabla de contingencia](https://es.wikipedia.org/wiki/Tabla_de_contingencia) a partir del vector *v*, donde la primera fila contiene los nombres de los elementos del vector, y la segunda fila contiene las frecuencias de cada elemento en el vector."
   ]
  },
  {
   "cell_type": "code",
   "execution_count": 74,
   "metadata": {
    "scrolled": true
   },
   "outputs": [
    {
     "data": {
      "text/plain": [
       "v\n",
       "1 2 3 5 \n",
       "1 6 2 1 "
      ]
     },
     "metadata": {},
     "output_type": "display_data"
    }
   ],
   "source": [
    "table(v)"
   ]
  },
  {
   "cell_type": "markdown",
   "metadata": {},
   "source": [
    "Recurriendo a la función `max`, obtenemos el mayor elemento de la tabla de contingencia."
   ]
  },
  {
   "cell_type": "code",
   "execution_count": 75,
   "metadata": {
    "scrolled": true
   },
   "outputs": [
    {
     "data": {
      "text/html": [
       "6"
      ],
      "text/latex": [
       "6"
      ],
      "text/markdown": [
       "6"
      ],
      "text/plain": [
       "[1] 6"
      ]
     },
     "metadata": {},
     "output_type": "display_data"
    }
   ],
   "source": [
    "max(table(v))"
   ]
  },
  {
   "cell_type": "markdown",
   "metadata": {},
   "source": [
    "Finalmente, establemos la condición para filtrar los valores de la tabla de contingencia que se correspondan con la frecuencia máxima de la misma.\n",
    "\n",
    "*Nota*: Observe que puede contener más de un elemento."
   ]
  },
  {
   "cell_type": "code",
   "execution_count": 76,
   "metadata": {},
   "outputs": [
    {
     "data": {
      "text/html": [
       "<strong>2:</strong> 6"
      ],
      "text/latex": [
       "\\textbf{2:} 6"
      ],
      "text/markdown": [
       "**2:** 6"
      ],
      "text/plain": [
       "2 \n",
       "6 "
      ]
     },
     "metadata": {},
     "output_type": "display_data"
    }
   ],
   "source": [
    "table(v)[table(v) == max(table(v))]"
   ]
  },
  {
   "cell_type": "markdown",
   "metadata": {},
   "source": [
    "### Tu turno!"
   ]
  },
  {
   "cell_type": "markdown",
   "metadata": {},
   "source": [
    "Define un vector con 1000 elementos enteros aleatorios entre 1 y 10. \n",
    "\n",
    "Luego utiliza las funciones de medidas de dispersión presentadas, y las de tendencia central (`sd` y `var`)"
   ]
  },
  {
   "cell_type": "code",
   "execution_count": null,
   "metadata": {
    "collapsed": true
   },
   "outputs": [],
   "source": [
    "# Generar un vector aleatorio y obtener sus medidas descriptivas\n",
    "\n",
    "# Vector aleatorio\n",
    "v <- c()                     # COMPLETAR generando el vector\n",
    "                             # de 1000 elementos entre 1 y 10\n",
    "\n",
    "\n",
    "# Medidas de tendencia central \n",
    "sprintf(\"Las medidas de dispersión del vector son:\")\n",
    "\n",
    "media_v <-                   # COMPLETAR con la media del vector\n",
    "mediana_v <-                 # COMPLETAR con la mediana del vector\n",
    "moda_v <-                    # COMPLETAR con la moda del vector\n",
    "\n",
    "sprintf(\"Media: [%s]\", paste(media_v, collapse=' '))\n",
    "sprintf(\"Mediana: [%s]\", paste(mediana_v, collapse=' '))\n",
    "sprintf(\"Moda: [%s]\", paste(moda_v, collapse=' '))"
   ]
  },
  {
   "cell_type": "markdown",
   "metadata": {},
   "source": [
    "Ahora, genera las **medidas de dispersión** para el vector generado. \n",
    "\n",
    "*Nota*: El [coeficiente de variación](https://es.wikipedia.org/wiki/Coeficiente_de_variaci%C3%B3n) (CV) puede obtenerse mediante la relación entre la desviación estándar y la media aritmética.\n",
    "\n",
    "**CV = desviación estándar / media aritmética**"
   ]
  },
  {
   "cell_type": "markdown",
   "metadata": {},
   "source": [
    "### Tu turno!"
   ]
  },
  {
   "cell_type": "markdown",
   "metadata": {},
   "source": [
    "Obtiene las medidas de dispersión para el vector generado anteriormente. "
   ]
  },
  {
   "cell_type": "code",
   "execution_count": 77,
   "metadata": {
    "scrolled": true
   },
   "outputs": [
    {
     "data": {
      "text/html": [
       "'Las medidas de dispersión del vector son:'"
      ],
      "text/latex": [
       "'Las medidas de dispersión del vector son:'"
      ],
      "text/markdown": [
       "'Las medidas de dispersión del vector son:'"
      ],
      "text/plain": [
       "[1] \"Las medidas de dispersión del vector son:\""
      ]
     },
     "metadata": {},
     "output_type": "display_data"
    },
    {
     "data": {
      "text/html": [
       "'Media: [2.4]'"
      ],
      "text/latex": [
       "'Media: {[}2.4{]}'"
      ],
      "text/markdown": [
       "'Media: [2.4]'"
      ],
      "text/plain": [
       "[1] \"Media: [2.4]\""
      ]
     },
     "metadata": {},
     "output_type": "display_data"
    },
    {
     "data": {
      "text/html": [
       "'Mediana: [2]'"
      ],
      "text/latex": [
       "'Mediana: {[}2{]}'"
      ],
      "text/markdown": [
       "'Mediana: [2]'"
      ],
      "text/plain": [
       "[1] \"Mediana: [2]\""
      ]
     },
     "metadata": {},
     "output_type": "display_data"
    },
    {
     "data": {
      "text/html": [
       "'Moda: [6]'"
      ],
      "text/latex": [
       "'Moda: {[}6{]}'"
      ],
      "text/markdown": [
       "'Moda: [6]'"
      ],
      "text/plain": [
       "[1] \"Moda: [6]\""
      ]
     },
     "metadata": {},
     "output_type": "display_data"
    }
   ],
   "source": [
    "# Medidas de dispersión\n",
    "sprintf(\"Las medidas de tendencia central del vector son:\")\n",
    "\n",
    "varianza_v <-                   # COMPLETAR con la varianza del vector\n",
    "desviacion_estandar_v <-        # COMPLETAR con la desviación estandar\n",
    "                                # del vector\n",
    "rango_v <-                      # COMPLETAR con el rango del vector\n",
    "coeficiente_variación_v <-      # COMPLETAR con el coeficiente de variación\n",
    "\n",
    "\n",
    "sprintf(\"Varianza: [%s]\", paste(varianza_v, collapse=' '))\n",
    "sprintf(\"Desviación estandar: [%s]\", paste(desviacion_estandar_v, collapse=' '))\n",
    "sprintf(\"Rango: [%s]\", paste(rango_v, collapse=' '))\n",
    "sprintf(\"Coeficiente de variación: [%s]\", paste(coeficiente_variacion_v, collapse=' '))"
   ]
  },
  {
   "cell_type": "markdown",
   "metadata": {},
   "source": [
    "## 2. Normalización de variables"
   ]
  },
  {
   "cell_type": "markdown",
   "metadata": {},
   "source": [
    "Frecuentemente, requerimos que los datos con los que trabajamos cumplan ciertos supuestos, asociados a la distribución de probabilidad de la población. Uno de estos supuestos es de la normalidad o de [distribución normal](https://es.wikipedia.org/wiki/Distribuci%C3%B3n_normal).\n",
    "\n",
    "La normalización de una variable consiste en la transformación de ésta, un pre procesamiento aplicado a los datos.\n",
    "\n",
    "*Nota*: El concepto de normalización de variables no debe confundirse con el de normalización de bases de datos."
   ]
  },
  {
   "cell_type": "markdown",
   "metadata": {},
   "source": [
    "Comencemos generando un vector con elementos enteros aleatorios del 1 al 5, y generemos con éste una tabla de contingencias.\n",
    "\n",
    "Nota: Observe que indicamos probabilidades para garantizar la distribución normal."
   ]
  },
  {
   "cell_type": "code",
   "execution_count": 109,
   "metadata": {
    "collapsed": true
   },
   "outputs": [],
   "source": [
    "v_norm <- sample(1:5, 1000, replace = TRUE, prob = c(0.1, 0.2, 0.4, 0.2, 0.1))"
   ]
  },
  {
   "cell_type": "code",
   "execution_count": 110,
   "metadata": {
    "scrolled": false
   },
   "outputs": [
    {
     "data": {
      "text/plain": [
       "v_norm\n",
       "  1   2   3   4   5 \n",
       "106 187 388 203 116 "
      ]
     },
     "metadata": {},
     "output_type": "display_data"
    }
   ],
   "source": [
    "table(v_norm)"
   ]
  },
  {
   "cell_type": "markdown",
   "metadata": {},
   "source": [
    "Como podemos observar, la mayor cantidad de elementos se concentra alrededor del 3. Podemos confirmar esto mediante la obtención de la media aritmética."
   ]
  },
  {
   "cell_type": "code",
   "execution_count": 114,
   "metadata": {},
   "outputs": [
    {
     "data": {
      "text/html": [
       "3.036"
      ],
      "text/latex": [
       "3.036"
      ],
      "text/markdown": [
       "3.036"
      ],
      "text/plain": [
       "[1] 3.036"
      ]
     },
     "metadata": {},
     "output_type": "display_data"
    }
   ],
   "source": [
    "mean(v_norm)"
   ]
  },
  {
   "cell_type": "markdown",
   "metadata": {},
   "source": [
    "Uno de los test para evaluar la normalidad es el de [Shapiro-Wilks](https://es.wikipedia.org/wiki/Test_de_Shapiro%E2%80%93Wilk) y R tiene una implementación del mismo. Veamos el resultado de la aplicación del test."
   ]
  },
  {
   "cell_type": "code",
   "execution_count": 115,
   "metadata": {
    "scrolled": true
   },
   "outputs": [
    {
     "data": {
      "text/plain": [
       "\n",
       "\tShapiro-Wilk normality test\n",
       "\n",
       "data:  v_norm\n",
       "W = 0.91256, p-value < 2.2e-16\n"
      ]
     },
     "metadata": {},
     "output_type": "display_data"
    }
   ],
   "source": [
    "shapiro.test(v_norm)"
   ]
  },
  {
   "cell_type": "markdown",
   "metadata": {},
   "source": [
    "El valor W aproximado a 1 (~0.9) y el p-valor menor a 0.05 (nivel de significancia) no podemos rechazar la hipótesis."
   ]
  },
  {
   "cell_type": "markdown",
   "metadata": {},
   "source": [
    "Ahora veamos qué ocurre con un conjunto de datos con una [distribución asimétrica](https://es.wikipedia.org/wiki/Asimetr%C3%ADa_estad%C3%ADstica)"
   ]
  },
  {
   "cell_type": "code",
   "execution_count": 116,
   "metadata": {},
   "outputs": [],
   "source": [
    "v_skewed <- sample(1:5, 1000, replace = TRUE, prob = c(0.3, 0.4, 0.1, 0.1, 0.1))"
   ]
  },
  {
   "cell_type": "code",
   "execution_count": 117,
   "metadata": {},
   "outputs": [
    {
     "data": {
      "text/plain": [
       "v_skewed\n",
       "  1   2   3   4   5 \n",
       "302 405  97 101  95 "
      ]
     },
     "metadata": {},
     "output_type": "display_data"
    }
   ],
   "source": [
    "table(v_skewed)"
   ]
  },
  {
   "cell_type": "code",
   "execution_count": 118,
   "metadata": {
    "scrolled": true
   },
   "outputs": [
    {
     "data": {
      "text/html": [
       "2.282"
      ],
      "text/latex": [
       "2.282"
      ],
      "text/markdown": [
       "2.282"
      ],
      "text/plain": [
       "[1] 2.282"
      ]
     },
     "metadata": {},
     "output_type": "display_data"
    }
   ],
   "source": [
    "mean(v_skewed)"
   ]
  },
  {
   "cell_type": "code",
   "execution_count": 119,
   "metadata": {},
   "outputs": [
    {
     "data": {
      "text/plain": [
       "\n",
       "\tShapiro-Wilk normality test\n",
       "\n",
       "data:  v_skewed\n",
       "W = 0.8207, p-value < 2.2e-16\n"
      ]
     },
     "metadata": {},
     "output_type": "display_data"
    }
   ],
   "source": [
    "shapiro.test(v_skewed)"
   ]
  },
  {
   "cell_type": "markdown",
   "metadata": {},
   "source": [
    "Como observamos, el valor 0.8 es menor al 0.9 de la distribución normal, mientras que el p-valor se mantiene."
   ]
  },
  {
   "cell_type": "markdown",
   "metadata": {},
   "source": [
    "### Tu turno!"
   ]
  },
  {
   "cell_type": "markdown",
   "metadata": {},
   "source": [
    "Use los datos de 'data/data.csv' y determine si la 'variable2' corresponde a una distribución normal utilizando el test de shapiro."
   ]
  },
  {
   "cell_type": "code",
   "execution_count": 141,
   "metadata": {},
   "outputs": [
    {
     "ename": "ERROR",
     "evalue": "Error in parse(text = x, srcfile = src): <text>:10:0: unexpected end of input\n8: test_shapiro <-          # COMPLETAR Aplicar el test de Shapiro-Wilks\n9:                          # a la variable 2 (data$variable2)\n  ^\n",
     "output_type": "error",
     "traceback": [
      "Error in parse(text = x, srcfile = src): <text>:10:0: unexpected end of input\n8: test_shapiro <-          # COMPLETAR Aplicar el test de Shapiro-Wilks\n9:                          # a la variable 2 (data$variable2)\n  ^\nTraceback:\n"
     ]
    }
   ],
   "source": [
    "# Determinar si la variable1 del conjunto de datos se corresponde con \n",
    "# una distribución normal.\n",
    "\n",
    "# Leer los datos\n",
    "data <- read.table('../data/data.csv', sep=',', header = TRUE)\n",
    "\n",
    "# Aplicar el test de Shapiro-Wilks a la variable\n",
    "test_shapiro <-          # COMPLETAR Aplicar el test de Shapiro-Wilks\n",
    "                         # a la variable 2 (data$variable2)"
   ]
  },
  {
   "cell_type": "code",
   "execution_count": 140,
   "metadata": {},
   "outputs": [
    {
     "data": {
      "text/plain": [
       "\n",
       "\tShapiro-Wilk normality test\n",
       "\n",
       "data:  data$variable2\n",
       "W = 0.91617, p-value = 0.005847\n"
      ]
     },
     "metadata": {},
     "output_type": "display_data"
    }
   ],
   "source": [
    "test_shapiro"
   ]
  },
  {
   "cell_type": "code",
   "execution_count": null,
   "metadata": {
    "collapsed": true
   },
   "outputs": [],
   "source": []
  }
 ],
 "metadata": {
  "kernelspec": {
   "display_name": "R",
   "language": "R",
   "name": "ir"
  },
  "language_info": {
   "codemirror_mode": "r",
   "file_extension": ".r",
   "mimetype": "text/x-r-source",
   "name": "R",
   "pygments_lexer": "r",
   "version": "3.2.3"
  }
 },
 "nbformat": 4,
 "nbformat_minor": 2
}
