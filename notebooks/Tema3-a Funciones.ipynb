{
 "cells": [
  {
   "cell_type": "markdown",
   "metadata": {},
   "source": [
    "# Trabajo práctico N° 3"
   ]
  },
  {
   "cell_type": "markdown",
   "metadata": {},
   "source": [
    "En este TP se ejercitarán los siguientes objetivos:\n",
    "* Comprender el concepto de **función**\n",
    "* Reconocer los componentes de una función\n",
    "* Reconocer la importancia de la organización de una función "
   ]
  },
  {
   "cell_type": "markdown",
   "metadata": {},
   "source": [
    "Este TP contiene los siguientes temas:\n",
    "1. Definiendo el script\n",
    "2. El método 'function()'\n",
    "3. Documentando la función"
   ]
  },
  {
   "cell_type": "markdown",
   "metadata": {},
   "source": [
    "## 1. Definiendo el script"
   ]
  },
  {
   "cell_type": "markdown",
   "metadata": {},
   "source": [
    "Se define un script con un conjunto de instrucciones que son ejecutadas en forma secuencial por R."
   ]
  },
  {
   "cell_type": "markdown",
   "metadata": {},
   "source": [
    "Un caso típico de un script implica las siguientes tareas:\n",
    "\n",
    "1. Obtener un conjunto de datos\n",
    "2. Procesar los datos obtenidos\n",
    "3. Mostrar resultados del procesamiento"
   ]
  },
  {
   "cell_type": "markdown",
   "metadata": {},
   "source": [
    "Supongamos que debemos procesar un conjunto de datos numéricos de modo tal que los mismos sean *normalizados*. \n",
    "En nuestro caso de ejemplo, la normalización implica la expresión de datos numéricos en la escala [0,1].\n",
    "\n",
    "Para este ejemplo, un script se definiría como:"
   ]
  },
  {
   "cell_type": "code",
   "execution_count": 1,
   "metadata": {},
   "outputs": [
    {
     "name": "stdout",
     "output_type": "stream",
     "text": [
      "[1] 0.2 0.4 0.6 0.8 1.0\n"
     ]
    }
   ],
   "source": [
    "# Script de ejemplo. Normalización de datos numéricos\n",
    "\n",
    "#1. Obtener un conjunto de datos\n",
    "datos <- c(1,2,3,4,5) #Generar un vector de prueba\n",
    "\n",
    "#2. Procesar los datos obtenidos\n",
    "datos_procesados <- datos / max(datos) #Normalizar los datos\n",
    "\n",
    "#3. Mostrar resultados del procesamiento\n",
    "print(datos_procesados) #Imprimir el resultado en pantalla"
   ]
  },
  {
   "cell_type": "markdown",
   "metadata": {},
   "source": [
    "Sin embargo, los datos podrían requerir un proceso más complejo. \n",
    "\n",
    "Considere el siguiente ejemplo.\n",
    "Además de la normalización, es necesario que los datos sean multiplicados por algún factor de ajuste. \n",
    "\n",
    "Veamos el ejemplo a continuación"
   ]
  },
  {
   "cell_type": "code",
   "execution_count": 32,
   "metadata": {},
   "outputs": [
    {
     "name": "stdout",
     "output_type": "stream",
     "text": [
      "[1] 0.1 0.2 0.3 0.4 0.5\n"
     ]
    }
   ],
   "source": [
    "# Script de ejemplo. Normalización de datos numéricos con factor de ajuste\n",
    "\n",
    "#1. Obtener un conjunto de datos\n",
    "datos <- c(1,2,3,4,5)\n",
    "\n",
    "#2. Procesar los datos obtenidos\n",
    "ajuste <- 0.5                                    #Definir un factor de ajuste\n",
    "\n",
    "datos_procesados <- datos / max(datos)\n",
    "datos_procesados <- datos_procesados * ajuste    #Aplicar el factor de ajuste \n",
    "\n",
    "#3. Mostrar resultados del procesamiento\n",
    "print(datos_procesados)"
   ]
  },
  {
   "cell_type": "markdown",
   "metadata": {},
   "source": [
    "Los scripts permiten definir un conjunto de instrucciones, sin embargo, presentan algunas **limitaciones**.\n",
    "\n",
    "En particular, los scripts son ejecuciones para casos únicos. Esto impide su generalización para otros casos similares, o su reutilización cuando deben realizarse varios procesamientos similares."
   ]
  },
  {
   "cell_type": "markdown",
   "metadata": {},
   "source": [
    "Otra limitación de los scripts, es la imposibilidad de dividir el problema en subproblemas más pequeños. "
   ]
  },
  {
   "cell_type": "markdown",
   "metadata": {},
   "source": [
    "Este tipo de inconvenientes son resueltos mediante las llamadas **funciones**. Veamos a continuación su definición."
   ]
  },
  {
   "cell_type": "markdown",
   "metadata": {},
   "source": [
    "### Tu turno!"
   ]
  },
  {
   "cell_type": "markdown",
   "metadata": {},
   "source": [
    "Define un script que realice una operación que sume el mayor y el menor número de un vector numérico.\n",
    "\n",
    "**Nota**, puede hacer uso de las funciones `min()` y `max()`"
   ]
  },
  {
   "cell_type": "code",
   "execution_count": 37,
   "metadata": {
    "scrolled": true
   },
   "outputs": [
    {
     "name": "stdout",
     "output_type": "stream",
     "text": [
      "[1] 6\n"
     ]
    }
   ],
   "source": [
    "# Sumar los elementos mayor y menor del vector numérico\n",
    "\n",
    "#1. Obtener un conjunto de datos\n",
    "datos <- c(1,2,3,4,5)\n",
    "\n",
    "#2. Procesar los datos obtenidos\n",
    "minimo <-                           ## COMPLETAR con el mínimo elemento del vector\n",
    "maximo <-                           ## COMPLETAR con el máximo elemento del vector\n",
    "\n",
    "suma_min_max <-                     ## COMPLETAR con la suma de ambos términos (minimo y maximo)\n",
    "\n",
    "#3. Mostrar resultados del procesamiento\n",
    "print()                             ## COMPLETAR imprimiendo en pantalla el resultado"
   ]
  },
  {
   "cell_type": "markdown",
   "metadata": {},
   "source": [
    "## 2. El método function()\n"
   ]
  },
  {
   "cell_type": "markdown",
   "metadata": {},
   "source": [
    "Las funciones son estructuras de procesamiento que permiten generalizar un conjunto de instrucciones. "
   ]
  },
  {
   "cell_type": "markdown",
   "metadata": {},
   "source": [
    "Una función tiene un nombre, un conjunto de parámetros, una estructura interna de ejecución y, opcionalmente, un valor de retorno. "
   ]
  },
  {
   "cell_type": "markdown",
   "metadata": {},
   "source": [
    "Supongamos el ejemplo anterior de la normalización de datos. \n",
    "\n",
    "Resulta que es necesario aplicar la normalización a 3 vectores distintos, definidos como:"
   ]
  },
  {
   "cell_type": "code",
   "execution_count": 3,
   "metadata": {},
   "outputs": [
    {
     "name": "stdout",
     "output_type": "stream",
     "text": [
      "[1] 8 4 5 9 2\n",
      "[1] 8 1 4 3 9\n",
      "[1]  7 10  8  2  4\n"
     ]
    }
   ],
   "source": [
    "datos_a <- sample(1:10, 5)\n",
    "datos_b <- sample(1:10, 5)\n",
    "datos_c <- sample(1:10, 5)\n",
    "\n",
    "print(datos_a)\n",
    "print(datos_b)\n",
    "print(datos_c)"
   ]
  },
  {
   "cell_type": "markdown",
   "metadata": {},
   "source": [
    "Una opción para la normalización de los 3 vectores, implicaría reiterar el procesamiento para cada uno de ellos. \n",
    "\n",
    "Una alternativa más eficiente implica la definición de una función como la siguiente."
   ]
  },
  {
   "cell_type": "code",
   "execution_count": 55,
   "metadata": {
    "collapsed": true
   },
   "outputs": [],
   "source": [
    "normalizar <- function(datos)\n",
    "    {    \n",
    "    #1. Obtener un conjunto de datos\n",
    "    #Definido en el parámetro 'datos'\n",
    "\n",
    "    #2. Procesar los datos obtenidos\n",
    "    datos_procesados <- datos / max(datos)\n",
    "\n",
    "    #3. Mostrar resultados del procesamiento\n",
    "    return(datos_procesados)\n",
    "}"
   ]
  },
  {
   "cell_type": "markdown",
   "metadata": {},
   "source": [
    "Observe que la definición de la función implica el uso de la palabra reservada `function` seguido de los paréntesis, mediante los cuales indicamos los **parámetros**. \n",
    "\n",
    "Luego la definición de la función que comprendida por el bloque comprendido entre llaves **{}**.\n",
    "\n",
    "Finalmente, la llamada a `return()` indica el valor a devolver en el nombre de la función.\n",
    "\n",
    "Veamos a continuación el resultado de utilizar la función definida."
   ]
  },
  {
   "cell_type": "code",
   "execution_count": 57,
   "metadata": {
    "scrolled": true
   },
   "outputs": [
    {
     "name": "stdout",
     "output_type": "stream",
     "text": [
      "[1] \"Los vectores normalizados son:\"\n",
      "[1] 0.875 0.375 0.500 0.625 1.000\n",
      "[1] 0.8888889 0.1111111 0.4444444 0.3333333 1.0000000\n",
      "[1] 0.7 1.0 0.8 0.2 0.4\n"
     ]
    }
   ],
   "source": [
    "print(\"Los vectores normalizados son:\")\n",
    "\n",
    "print(normalizar(datos_a))\n",
    "print(normalizar(datos_b))\n",
    "print(normalizar(datos_c))"
   ]
  },
  {
   "cell_type": "markdown",
   "metadata": {},
   "source": [
    "Como podemos observar, las funciones permiten organizar el procesamiento de los datos de un modo eficiente. Sin embargo, cuando comenzamos a definir varias funciones, es frecuente que olvidemos qué hace cada una. \n",
    "\n",
    "Veamos a continuación cómo resolver este inconveniente."
   ]
  },
  {
   "cell_type": "markdown",
   "metadata": {},
   "source": [
    "### Tu turno!"
   ]
  },
  {
   "cell_type": "markdown",
   "metadata": {},
   "source": [
    "Define una función `sumar_extremos(datos)` que sume los valores mínimo y máximo de un vector numérico, e imprima el resultado en pantalla."
   ]
  },
  {
   "cell_type": "code",
   "execution_count": 42,
   "metadata": {
    "collapsed": true
   },
   "outputs": [],
   "source": [
    "# Definir una función que sume los elementos extremos de un vector numérico\n",
    "\n",
    "sumar_extremos <- function()       #COMPLETAR ingresando el nombre del parámetro de entrada de la función\n",
    "    {\n",
    "    #1. Obtener un conjunto de datos\n",
    "    datos <-                            ## COMPLETAR con el parámetro ingresado en el nombre de la función\n",
    "\n",
    "    #2. Procesar los datos obtenidos\n",
    "    minimo <-                            ## COMPLETAR con el mínimo elemento del vector\n",
    "    maximo <-                            ## COMPLETAR con el máximo elemento del vector\n",
    "\n",
    "    suma_min_max <-                      ## COMPLETAR con la suma de ambos términos (minimo y maximo)\n",
    "\n",
    "    #3. Retornar el valor en el nombre de la función\n",
    "    return()                             ## COMPLETAR indicando el valor de retorno\n",
    "}"
   ]
  },
  {
   "cell_type": "code",
   "execution_count": 52,
   "metadata": {},
   "outputs": [
    {
     "data": {
      "text/html": [
       "'La suma de los elementos mínimo y máximo del vector [7 3 4 5 8] es:'"
      ],
      "text/latex": [
       "'La suma de los elementos mínimo y máximo del vector {[}7 3 4 5 8{]} es:'"
      ],
      "text/markdown": [
       "'La suma de los elementos mínimo y máximo del vector [7 3 4 5 8] es:'"
      ],
      "text/plain": [
       "[1] \"La suma de los elementos mínimo y máximo del vector [7 3 4 5 8] es:\""
      ]
     },
     "metadata": {},
     "output_type": "display_data"
    },
    {
     "name": "stdout",
     "output_type": "stream",
     "text": [
      "[1] 11\n"
     ]
    }
   ],
   "source": [
    "# Evalúe el resultado de la aplicación de su función\n",
    "\n",
    "#1. Defina el vector con los datos\n",
    "datos_a <- sample(1:10, 5)\n",
    "\n",
    "sprintf(\"La suma de los elementos mínimo y máximo del vector [%s] es:\", paste(datos_a, collapse=' '))\n",
    "\n",
    "print(sumar_extremos(datos_a))"
   ]
  },
  {
   "cell_type": "markdown",
   "metadata": {
    "collapsed": true
   },
   "source": [
    "## 3. Documentando la función"
   ]
  },
  {
   "cell_type": "markdown",
   "metadata": {},
   "source": [
    "Documentar es una parte importante del desarrollo. En particular, la documentación de funciones nos permite identificar rápidamente para qué sirve, cómo utilizarlas, y qué resultados esperar de elllas."
   ]
  },
  {
   "cell_type": "markdown",
   "metadata": {},
   "source": [
    "La parte más simple de la documentación de una función debe indicar qué hace dicha función. \n",
    "\n",
    "**Nota**: Haremos uso de un recurso externo para gestionar la documentación, el paquete llamado [docstring]() el cual puede instalalarse con: \n",
    "\n",
    "`install.packages(\"docstring\")\n",
    "library('docstring')`"
   ]
  },
  {
   "cell_type": "code",
   "execution_count": 7,
   "metadata": {
    "collapsed": true
   },
   "outputs": [
    {
     "name": "stderr",
     "output_type": "stream",
     "text": [
      "\n",
      "Attaching package: ‘docstring’\n",
      "\n",
      "The following object is masked from ‘package:utils’:\n",
      "\n",
      "    ?\n",
      "\n"
     ]
    }
   ],
   "source": [
    "library(\"docstring\")"
   ]
  },
  {
   "cell_type": "markdown",
   "metadata": {},
   "source": [
    "Para documentar una función, comenzaremos ingresando la primera línea de la misma, precedida por el signo numeral y el apóstrofe `#'`.\n",
    "\n",
    "Veamos un ejemplo con nuestra función *normalizar*"
   ]
  },
  {
   "cell_type": "code",
   "execution_count": 58,
   "metadata": {
    "collapsed": true
   },
   "outputs": [],
   "source": [
    "normalizar <- function(datos){    \n",
    "    #' Normaliza los datos e imprime el resultado\n",
    "    #' \n",
    "    #' Esta función normaliza los datos de acuerdo al máximo valor \n",
    "    #' de los datos\n",
    "    #' @param datos vector numérico no nulo\n",
    "    #'\n",
    "    #' @return vector numérico normalizado\n",
    "\n",
    "    datos_procesados <- datos / max(datos)\n",
    "\n",
    "    return(datos_procesados)\n",
    "}"
   ]
  },
  {
   "cell_type": "markdown",
   "metadata": {},
   "source": [
    "Ahora, podemos consultar la documentación de nuestra función con el signo de pregunta `?` seguido del nombre de la función como vimos en el [Tema 1]()"
   ]
  },
  {
   "cell_type": "code",
   "execution_count": 59,
   "metadata": {},
   "outputs": [
    {
     "name": "stderr",
     "output_type": "stream",
     "text": [
      "Rendering development documentation for 'normalizar'\n"
     ]
    },
    {
     "data": {},
     "metadata": {},
     "output_type": "display_data"
    }
   ],
   "source": [
    "?normalizar"
   ]
  },
  {
   "cell_type": "markdown",
   "metadata": {},
   "source": [
    "La primera línea de la documentación define el título. \n",
    "\n",
    "    #' Normaliza los datos e imprime el resultado\n",
    "\n",
    "Luego, una línea en blanco separa el bloque de título del siguiente bloque.\n",
    "\n",
    "    #'\n",
    "    \n",
    "El bloque siguiente contiene la descripción de la función.\n",
    "\n",
    "    #' Esta función normaliza los datos de acuerdo al máximo valor \n",
    "    #' de los datos\n",
    "\n",
    "Adicionalmente, se pueden describir los parámetros de la función anteponiendo `@param` y el nombre del parámetro a describir. \n",
    "\n",
    "    #' @param datos vector numérico no nulo\n",
    "    \n",
    "Finalmente, el valor retornado se indica con `@return` seguido de la descripción del mismo.\n",
    "\n",
    "    #' @return vector numérico normalizado"
   ]
  },
  {
   "cell_type": "markdown",
   "metadata": {},
   "source": [
    "### Tu turno!"
   ]
  },
  {
   "cell_type": "markdown",
   "metadata": {},
   "source": [
    "Completa la documentación de la función"
   ]
  },
  {
   "cell_type": "code",
   "execution_count": null,
   "metadata": {
    "collapsed": true
   },
   "outputs": [],
   "source": [
    "# Definir una función que sume los elementos extremos de un vector numérico\n",
    "\n",
    "sumar_extremos <- function(datos)       \n",
    "    {\n",
    "    #'                          #COMPLETAR la documentación de la función \n",
    "                                #ingresando los bloques correspondientes al título,\n",
    "                                #detalles, parámetros y returno\n",
    "    \n",
    "    # COPIAR aquí la definición de la función realizada en la sección Tu turno! de 2.Definición de función()\n",
    "}"
   ]
  },
  {
   "cell_type": "code",
   "execution_count": null,
   "metadata": {
    "collapsed": true
   },
   "outputs": [],
   "source": [
    "#Consultar la documentación de la función definida\n",
    "?sumar_extremos()"
   ]
  }
 ],
 "metadata": {
  "kernelspec": {
   "display_name": "R",
   "language": "R",
   "name": "ir"
  },
  "language_info": {
   "codemirror_mode": "r",
   "file_extension": ".r",
   "mimetype": "text/x-r-source",
   "name": "R",
   "pygments_lexer": "r",
   "version": "3.2.3"
  }
 },
 "nbformat": 4,
 "nbformat_minor": 2
}
