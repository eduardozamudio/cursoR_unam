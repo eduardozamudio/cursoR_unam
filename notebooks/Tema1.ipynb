{
 "cells": [
  {
   "cell_type": "markdown",
   "metadata": {},
   "source": [
    "# Trabajo práctico N°1\n",
    "\n",
    "El objetivo del TP1 es el de tomar un primer contacto con el software R y su lenguaje. \n",
    "\n",
    "Para ello, se proponen un conjunto de *operaciones aritméticas básicas.*"
   ]
  },
  {
   "cell_type": "markdown",
   "metadata": {},
   "source": [
    "## Operadores predefinidos\n",
    "\n",
    "R define un conjunto de **operadores predefinidos** para realizar operaciones aritméticas básicas. \n",
    "\n",
    "* **x + y** represeta la suma\n",
    "* **x - y** resta\n",
    "* **x * y** multiplicación\n",
    "* **x / y** división\n",
    "* **x ^ y** potencia\n",
    "* **x %% y** módulo o resto de la división x/y\n",
    "\n",
    "Por ejemplo:\n",
    "Ejecute la siguiente celda en la que se suma 2 más 4."
   ]
  },
  {
   "cell_type": "code",
   "execution_count": 7,
   "metadata": {},
   "outputs": [
    {
     "data": {
      "text/html": [
       "8"
      ],
      "text/latex": [
       "8"
      ],
      "text/markdown": [
       "8"
      ],
      "text/plain": [
       "[1] 8"
      ]
     },
     "metadata": {},
     "output_type": "display_data"
    }
   ],
   "source": [
    "#Suma dos enteros (2 y 4) e imprime el resultado (6)\n",
    "2*4"
   ]
  },
  {
   "cell_type": "markdown",
   "metadata": {},
   "source": [
    "### Tu turno!\n",
    "\n",
    "Pruebe modificar el operador \"+\" por otros operadores para obtener más resultados (-, /, *, ^). "
   ]
  },
  {
   "cell_type": "code",
   "execution_count": 10,
   "metadata": {
    "collapsed": true
   },
   "outputs": [],
   "source": [
    "#Complete el código para realizar las siguientes operaciones\n",
    "\n",
    "#Sume dos números\n",
    "#ingrese su código aquí\n",
    "\n",
    "#Multiplique los números 3, 5, y 6\n",
    "#Ingrese su código aquí\n",
    "\n",
    "#Calcule la 5ta potencia de 2\n",
    "#Ingrese su código aquí"
   ]
  },
  {
   "cell_type": "markdown",
   "metadata": {},
   "source": [
    "## Funciones\n",
    "\n",
    "Los operadores predefinidos ejecutan **funciones** definidas en R. Estas funciones toman la forma *funcion(par1, par2)* donde *funcion* indica el nombre de la función, y *par1* y *par2* indica que existen dos parámetros que recibe la función.\n",
    "\n",
    "La función equivalente del operador predefinido \"+\" es la función *sum()*\n",
    "\n",
    "Por ejemplo, ejecute la siguiente celda en la que se suman dos números (2 y 4)."
   ]
  },
  {
   "cell_type": "code",
   "execution_count": 13,
   "metadata": {},
   "outputs": [
    {
     "data": {
      "text/html": [
       "6"
      ],
      "text/latex": [
       "6"
      ],
      "text/markdown": [
       "6"
      ],
      "text/plain": [
       "[1] 6"
      ]
     },
     "metadata": {},
     "output_type": "display_data"
    }
   ],
   "source": [
    "#Suma dos enteros (2 y 4) e imprime el resultado (6)\n",
    "sum(2,4)"
   ]
  },
  {
   "cell_type": "markdown",
   "metadata": {},
   "source": [
    "## Variables\n",
    "\n",
    "El lenguaje R permite almacenar datos en **variables**. \n",
    "Las variables son representadas por un conjunto de caracteres que hacen referencia a los datos almacenados.  \n",
    "\n",
    "Por ejemplo, la siguiente celda asigna el resultado de la suma en una variable *\"suma_ejemplo\"*"
   ]
  },
  {
   "cell_type": "code",
   "execution_count": 32,
   "metadata": {
    "collapsed": true
   },
   "outputs": [],
   "source": [
    "#Almacena el resultado de la suma de los número 2 y 4 en la variable \"suma_ejemplo\"\n",
    "\n",
    "suma_ejemplo <- 2 + 4"
   ]
  },
  {
   "cell_type": "markdown",
   "metadata": {},
   "source": [
    "Este proceso se conoce como **asignación** y utiliza el conjunto de símbolos \"<-\" en la que la variable a su izquierda contiene el resultado de la operación ejecutada a la derecha de éste.\n",
    "\n",
    "Al imprimir el contenido de la variable del ejemplo, nos devuelve el resultado de la operación anterior."
   ]
  },
  {
   "cell_type": "code",
   "execution_count": 33,
   "metadata": {},
   "outputs": [
    {
     "data": {
      "text/html": [
       "6"
      ],
      "text/latex": [
       "6"
      ],
      "text/markdown": [
       "6"
      ],
      "text/plain": [
       "[1] 6"
      ]
     },
     "metadata": {},
     "output_type": "display_data"
    }
   ],
   "source": [
    "#Imprime en pantalla el contenido de la variable \"suma_ejemplo\"\n",
    "suma_ejemplo"
   ]
  },
  {
   "cell_type": "markdown",
   "metadata": {},
   "source": [
    "### Tu turno!\n",
    "\n",
    "Instancie una variable con el resultado de aplicar la función `abs()` valor absoluto de un número."
   ]
  },
  {
   "cell_type": "code",
   "execution_count": 36,
   "metadata": {},
   "outputs": [
    {
     "data": {
      "text/html": [
       "-1"
      ],
      "text/latex": [
       "-1"
      ],
      "text/markdown": [
       "-1"
      ],
      "text/plain": [
       "[1] -1"
      ]
     },
     "metadata": {},
     "output_type": "display_data"
    },
    {
     "data": {
      "text/html": [
       "1"
      ],
      "text/latex": [
       "1"
      ],
      "text/markdown": [
       "1"
      ],
      "text/plain": [
       "[1] 1"
      ]
     },
     "metadata": {},
     "output_type": "display_data"
    }
   ],
   "source": [
    "5+3-9\n",
    "OPERACION <- 5 + 3 - 9\n",
    "abs(OPERACION)"
   ]
  },
  {
   "cell_type": "markdown",
   "metadata": {},
   "source": [
    "## Funciones predefinidas\n",
    "\n",
    "Las funciones pueden definir muchas operaciones. R dispone de un conjunto de funciones predefinidas que permiten realizar operaciones matemáticas y estadísticas, entre otras. \n",
    "\n",
    "Por ejemplo, algunas de estas funciones de uso habitual incluyen:\n",
    "\n",
    "* mean() - Media\n",
    "* sd() - Desvío estandar\n",
    "* var() - Varianza\n",
    "\n",
    "Para esto, presentamos una estructura de datos utilizada en el lenguaje R, el vector.\n",
    "\n",
    "Un **vector** es un conjunto de elementos concatenados y ordenados. \n",
    "\n",
    "En R, es posible definir un vector mediante la función **c()** de \"concatenar\". \n",
    "\n",
    "Por ejemplo, la siguiente celda define un vector numérico con los elementos *5, 6, y 7*"
   ]
  },
  {
   "cell_type": "code",
   "execution_count": 14,
   "metadata": {},
   "outputs": [
    {
     "data": {
      "text/html": [
       "<ol class=list-inline>\n",
       "\t<li>5</li>\n",
       "\t<li>6</li>\n",
       "\t<li>7</li>\n",
       "</ol>\n"
      ],
      "text/latex": [
       "\\begin{enumerate*}\n",
       "\\item 5\n",
       "\\item 6\n",
       "\\item 7\n",
       "\\end{enumerate*}\n"
      ],
      "text/markdown": [
       "1. 5\n",
       "2. 6\n",
       "3. 7\n",
       "\n",
       "\n"
      ],
      "text/plain": [
       "[1] 5 6 7"
      ]
     },
     "metadata": {},
     "output_type": "display_data"
    }
   ],
   "source": [
    "#Define un vector numérico con los elementos 5, 6, y 7\n",
    "\n",
    "c(5, 6, 7)"
   ]
  },
  {
   "cell_type": "markdown",
   "metadata": {},
   "source": [
    "El vector resultante puede asignarse a una variable. \n",
    "Modifique la celda anterior de modo tal que el vector sea asignado a una variable **vector_ejemplo**"
   ]
  },
  {
   "cell_type": "markdown",
   "metadata": {},
   "source": [
    "A continuación, utilice la función \"mean()\" para obtener la media de los elementos del vector numérico creado en el ejercicio previo"
   ]
  },
  {
   "cell_type": "code",
   "execution_count": 32,
   "metadata": {},
   "outputs": [
    {
     "data": {
      "text/html": [
       "6"
      ],
      "text/latex": [
       "6"
      ],
      "text/markdown": [
       "6"
      ],
      "text/plain": [
       "[1] 6"
      ]
     },
     "metadata": {},
     "output_type": "display_data"
    }
   ],
   "source": [
    "#Calcula la media de los valores 5, 6, y 7\n",
    "\n",
    "mean(c(5, 6, 7))"
   ]
  },
  {
   "cell_type": "markdown",
   "metadata": {},
   "source": [
    "### Tu turno!\n",
    "\n",
    "Complete los parámetros de las siguientes funciones"
   ]
  },
  {
   "cell_type": "code",
   "execution_count": 37,
   "metadata": {},
   "outputs": [
    {
     "ename": "ERROR",
     "evalue": "Error in sqrt(): 0 arguments passed to 'sqrt' which requires 1\n",
     "output_type": "error",
     "traceback": [
      "Error in sqrt(): 0 arguments passed to 'sqrt' which requires 1\nTraceback:\n"
     ]
    }
   ],
   "source": [
    "#Obtiene la raiz de un número\n",
    "sqrt() #Complete el parámetro con un número >= 0\n",
    "\n",
    "#Obtiene la función exponencial\n",
    "exp() #Complete el parámetro con un número\n",
    "\n",
    "#Obtiene el seno de un número\n",
    "sin() #Complete el parámetro con un número"
   ]
  },
  {
   "cell_type": "markdown",
   "metadata": {},
   "source": [
    "Otras funciones matemáticas predefinidas en R pueden consultarse [aquí](https://www.statmethods.net/management/functions.html)"
   ]
  },
  {
   "cell_type": "markdown",
   "metadata": {},
   "source": [
    "# Ayuda adicional\n",
    "\n",
    "R define una función de **ayuda** cuya utilidad es la de presentar información sobre el uso de otra función. Esta función se define como *help(func)*, donde *func* es el nombre de la función de la que queremos obtener información.\n",
    "\n",
    "A continuación, ejecute la celda siguiente."
   ]
  },
  {
   "cell_type": "code",
   "execution_count": 2,
   "metadata": {
    "collapsed": true
   },
   "outputs": [],
   "source": [
    "help(mean)"
   ]
  },
  {
   "cell_type": "markdown",
   "metadata": {},
   "source": [
    "En la parte inferior de la ventana se despliega una cuadro con la ayuda de la función *mean*. \n",
    "\n",
    "Pruebe ejecutar la función *help()* indicando como parámetro el \n",
    "nombre de otras funciones como *avg* o *sum*.  \n",
    "\n",
    "Recuerde no utilizar paréntesis \"()\" en el nombre de la función de la que pretende obtener la ayuda. "
   ]
  },
  {
   "cell_type": "code",
   "execution_count": 5,
   "metadata": {
    "collapsed": true
   },
   "outputs": [],
   "source": [
    "#Imprime la ayuda de la función \"sum\"\n"
   ]
  }
 ],
 "metadata": {
  "kernelspec": {
   "display_name": "R",
   "language": "R",
   "name": "ir"
  },
  "language_info": {
   "codemirror_mode": "r",
   "file_extension": ".r",
   "mimetype": "text/x-r-source",
   "name": "R",
   "pygments_lexer": "r",
   "version": "3.2.3"
  }
 },
 "nbformat": 4,
 "nbformat_minor": 2
}
