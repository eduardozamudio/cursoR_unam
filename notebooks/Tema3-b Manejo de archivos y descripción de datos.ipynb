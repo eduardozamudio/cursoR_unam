{
 "cells": [
  {
   "cell_type": "markdown",
   "metadata": {},
   "source": [
    "# Trabajo práctico N° 3 \n",
    "\n",
    "## Manejo de archivos y descripción de datos"
   ]
  },
  {
   "cell_type": "markdown",
   "metadata": {},
   "source": [
    "El objetivo de este TP es el de conocer las herramientas para la manipulación de datos, en particular a través de la lectura de archivos con bases de datos y la descripción de los mismos."
   ]
  },
  {
   "cell_type": "markdown",
   "metadata": {},
   "source": [
    "Esta libreta se organiza de la siguiente manera:\n",
    "\n",
    "1. Lectura de archivos de datos\n",
    "2. Descripción de datos\n",
    "3. Escritura de archivos de datos"
   ]
  },
  {
   "cell_type": "markdown",
   "metadata": {},
   "source": [
    "## 1. Lectura de archivos de datos"
   ]
  },
  {
   "cell_type": "markdown",
   "metadata": {},
   "source": [
    "A menudo nos encontramos con la necesidad de utilizar datos provenientes de archivos con distintos formatos (csv, xls, etc.). \n",
    "\n",
    "Para utilizar estos datos es necesario 'cargarlos' en variables que nos permitan su manipulación. \n",
    "\n",
    "Existen distintas alternativas para leer los datos desde los archivos y almacenar estos datos en variables. \n",
    "\n",
    "A continuación vemos cómo realizar esta lectura de archivos con datos a partir de la función `read.table()`\n",
    "\n"
   ]
  },
  {
   "cell_type": "code",
   "execution_count": 6,
   "metadata": {
    "collapsed": true
   },
   "outputs": [],
   "source": [
    "?read.table"
   ]
  },
  {
   "cell_type": "markdown",
   "metadata": {},
   "source": [
    "La función `read.table` lee un archivo y crea un data frame con los datos contenidos en éste. Veamos su uso con un archivo de ejemplo ubicado en la carpeta *data*."
   ]
  },
  {
   "cell_type": "code",
   "execution_count": 11,
   "metadata": {
    "scrolled": true
   },
   "outputs": [
    {
     "data": {
      "text/html": [
       "<table>\n",
       "<thead><tr><th scope=col>clase</th><th scope=col>repeticion</th><th scope=col>variable1</th><th scope=col>variable2</th><th scope=col>variable3</th></tr></thead>\n",
       "<tbody>\n",
       "\t<tr><td>A      </td><td>1      </td><td>  74.92</td><td>24.10  </td><td>1.590  </td></tr>\n",
       "\t<tr><td>A      </td><td>2      </td><td>  67.07</td><td>15.97  </td><td>1.660  </td></tr>\n",
       "\t<tr><td>B      </td><td>1      </td><td>  69.18</td><td>36.57  </td><td>5.600  </td></tr>\n",
       "\t<tr><td>B      </td><td>2      </td><td>  50.23</td><td>26.85  </td><td>6.200  </td></tr>\n",
       "\t<tr><td>C      </td><td>1      </td><td>  42.00</td><td>14.71  </td><td>4.200  </td></tr>\n",
       "\t<tr><td>C      </td><td>2      </td><td>  71.25</td><td>26.45  </td><td>5.100  </td></tr>\n",
       "\t<tr><td>D      </td><td>1      </td><td>  45.00</td><td>56.10  </td><td>4.700  </td></tr>\n",
       "\t<tr><td>D      </td><td>2      </td><td>  48.44</td><td>55.16  </td><td>3.400  </td></tr>\n",
       "\t<tr><td>E      </td><td>1      </td><td>  62.86</td><td>22.55  </td><td>2.900  </td></tr>\n",
       "\t<tr><td>E      </td><td>2      </td><td>  75.31</td><td>16.01  </td><td>3.600  </td></tr>\n",
       "\t<tr><td>F      </td><td>1      </td><td>  46.50</td><td>42.62  </td><td>1.230  </td></tr>\n",
       "\t<tr><td>F      </td><td>2      </td><td>7765.00</td><td>44.85  </td><td>2.550  </td></tr>\n",
       "\t<tr><td>G      </td><td>1      </td><td>  40.59</td><td>35.26  </td><td>2.320  </td></tr>\n",
       "\t<tr><td>G      </td><td>2      </td><td>  43.41</td><td>44.56  </td><td>2.310  </td></tr>\n",
       "\t<tr><td>H      </td><td>1      </td><td>  32.00</td><td>34.05  </td><td>4.330  </td></tr>\n",
       "\t<tr><td>H      </td><td>2      </td><td>  71.61</td><td>32.45  </td><td>5.450  </td></tr>\n",
       "\t<tr><td>I      </td><td>1      </td><td>  68.33</td><td>24.15  </td><td>3.440  </td></tr>\n",
       "\t<tr><td>I      </td><td>2      </td><td>  29.74</td><td>27.06  </td><td>3.840  </td></tr>\n",
       "\t<tr><td>J      </td><td>1      </td><td>  29.53</td><td>54.29  </td><td>2.830  </td></tr>\n",
       "\t<tr><td>J      </td><td>2      </td><td>  70.53</td><td>55.43  </td><td>3.630  </td></tr>\n",
       "\t<tr><td>K      </td><td>1      </td><td>  54.70</td><td>44.55  </td><td>5.330  </td></tr>\n",
       "\t<tr><td>K      </td><td>2      </td><td>  64.28</td><td>43.45  </td><td>5.280  </td></tr>\n",
       "\t<tr><td>L      </td><td>1      </td><td>  58.77</td><td>45.05  </td><td>2.525  </td></tr>\n",
       "\t<tr><td>L      </td><td>2      </td><td>  73.21</td><td>46.35  </td><td>3.300  </td></tr>\n",
       "\t<tr><td>LL     </td><td>1      </td><td>  36.21</td><td>54.10  </td><td>3.200  </td></tr>\n",
       "\t<tr><td>LL     </td><td>2      </td><td>  43.32</td><td>55.14  </td><td>2.400  </td></tr>\n",
       "\t<tr><td>M      </td><td>1      </td><td>  66.81</td><td>34.83  </td><td>1.380  </td></tr>\n",
       "\t<tr><td>M      </td><td>2      </td><td>  29.52</td><td>34.63  </td><td>2.330  </td></tr>\n",
       "\t<tr><td>N      </td><td>1      </td><td>  52.50</td><td>22.83  </td><td>3.250  </td></tr>\n",
       "\t<tr><td>N      </td><td>2      </td><td>  18.57</td><td>23.60  </td><td>2.250  </td></tr>\n",
       "\t<tr><td>O      </td><td>1      </td><td>  29.17</td><td>25.05  </td><td>1.400  </td></tr>\n",
       "\t<tr><td>O      </td><td>2      </td><td>  20.73</td><td>24.23  </td><td>4.300  </td></tr>\n",
       "\t<tr><td>P      </td><td>1      </td><td>  16.67</td><td>23.72  </td><td>3.900  </td></tr>\n",
       "\t<tr><td>P      </td><td>2      </td><td>  25.61</td><td>25.48  </td><td>3.800  </td></tr>\n",
       "\t<tr><td>Q      </td><td>1      </td><td>  25.00</td><td>44.33  </td><td>1.330  </td></tr>\n",
       "\t<tr><td>Q      </td><td>2      </td><td>  17.50</td><td>53.30  </td><td>1.420  </td></tr>\n",
       "\t<tr><td>R      </td><td>1      </td><td>  19.15</td><td>45.23  </td><td>2.430  </td></tr>\n",
       "\t<tr><td>R      </td><td>2      </td><td>  31.82</td><td>54.35  </td><td>2.500  </td></tr>\n",
       "\t<tr><td>S      </td><td>1      </td><td>  30.85</td><td>54.21  </td><td>3.100  </td></tr>\n",
       "\t<tr><td>S      </td><td>2      </td><td>  34.62</td><td>44.16  </td><td>2.180  </td></tr>\n",
       "</tbody>\n",
       "</table>\n"
      ],
      "text/latex": [
       "\\begin{tabular}{r|lllll}\n",
       " clase & repeticion & variable1 & variable2 & variable3\\\\\n",
       "\\hline\n",
       "\t A       & 1       &   74.92 & 24.10   & 1.590  \\\\\n",
       "\t A       & 2       &   67.07 & 15.97   & 1.660  \\\\\n",
       "\t B       & 1       &   69.18 & 36.57   & 5.600  \\\\\n",
       "\t B       & 2       &   50.23 & 26.85   & 6.200  \\\\\n",
       "\t C       & 1       &   42.00 & 14.71   & 4.200  \\\\\n",
       "\t C       & 2       &   71.25 & 26.45   & 5.100  \\\\\n",
       "\t D       & 1       &   45.00 & 56.10   & 4.700  \\\\\n",
       "\t D       & 2       &   48.44 & 55.16   & 3.400  \\\\\n",
       "\t E       & 1       &   62.86 & 22.55   & 2.900  \\\\\n",
       "\t E       & 2       &   75.31 & 16.01   & 3.600  \\\\\n",
       "\t F       & 1       &   46.50 & 42.62   & 1.230  \\\\\n",
       "\t F       & 2       & 7765.00 & 44.85   & 2.550  \\\\\n",
       "\t G       & 1       &   40.59 & 35.26   & 2.320  \\\\\n",
       "\t G       & 2       &   43.41 & 44.56   & 2.310  \\\\\n",
       "\t H       & 1       &   32.00 & 34.05   & 4.330  \\\\\n",
       "\t H       & 2       &   71.61 & 32.45   & 5.450  \\\\\n",
       "\t I       & 1       &   68.33 & 24.15   & 3.440  \\\\\n",
       "\t I       & 2       &   29.74 & 27.06   & 3.840  \\\\\n",
       "\t J       & 1       &   29.53 & 54.29   & 2.830  \\\\\n",
       "\t J       & 2       &   70.53 & 55.43   & 3.630  \\\\\n",
       "\t K       & 1       &   54.70 & 44.55   & 5.330  \\\\\n",
       "\t K       & 2       &   64.28 & 43.45   & 5.280  \\\\\n",
       "\t L       & 1       &   58.77 & 45.05   & 2.525  \\\\\n",
       "\t L       & 2       &   73.21 & 46.35   & 3.300  \\\\\n",
       "\t LL      & 1       &   36.21 & 54.10   & 3.200  \\\\\n",
       "\t LL      & 2       &   43.32 & 55.14   & 2.400  \\\\\n",
       "\t M       & 1       &   66.81 & 34.83   & 1.380  \\\\\n",
       "\t M       & 2       &   29.52 & 34.63   & 2.330  \\\\\n",
       "\t N       & 1       &   52.50 & 22.83   & 3.250  \\\\\n",
       "\t N       & 2       &   18.57 & 23.60   & 2.250  \\\\\n",
       "\t O       & 1       &   29.17 & 25.05   & 1.400  \\\\\n",
       "\t O       & 2       &   20.73 & 24.23   & 4.300  \\\\\n",
       "\t P       & 1       &   16.67 & 23.72   & 3.900  \\\\\n",
       "\t P       & 2       &   25.61 & 25.48   & 3.800  \\\\\n",
       "\t Q       & 1       &   25.00 & 44.33   & 1.330  \\\\\n",
       "\t Q       & 2       &   17.50 & 53.30   & 1.420  \\\\\n",
       "\t R       & 1       &   19.15 & 45.23   & 2.430  \\\\\n",
       "\t R       & 2       &   31.82 & 54.35   & 2.500  \\\\\n",
       "\t S       & 1       &   30.85 & 54.21   & 3.100  \\\\\n",
       "\t S       & 2       &   34.62 & 44.16   & 2.180  \\\\\n",
       "\\end{tabular}\n"
      ],
      "text/markdown": [
       "\n",
       "clase | repeticion | variable1 | variable2 | variable3 | \n",
       "|---|---|---|---|---|---|---|---|---|---|---|---|---|---|---|---|---|---|---|---|---|---|---|---|---|---|---|---|---|---|---|---|---|---|---|---|---|---|---|---|\n",
       "| A       | 1       |   74.92 | 24.10   | 1.590   | \n",
       "| A       | 2       |   67.07 | 15.97   | 1.660   | \n",
       "| B       | 1       |   69.18 | 36.57   | 5.600   | \n",
       "| B       | 2       |   50.23 | 26.85   | 6.200   | \n",
       "| C       | 1       |   42.00 | 14.71   | 4.200   | \n",
       "| C       | 2       |   71.25 | 26.45   | 5.100   | \n",
       "| D       | 1       |   45.00 | 56.10   | 4.700   | \n",
       "| D       | 2       |   48.44 | 55.16   | 3.400   | \n",
       "| E       | 1       |   62.86 | 22.55   | 2.900   | \n",
       "| E       | 2       |   75.31 | 16.01   | 3.600   | \n",
       "| F       | 1       |   46.50 | 42.62   | 1.230   | \n",
       "| F       | 2       | 7765.00 | 44.85   | 2.550   | \n",
       "| G       | 1       |   40.59 | 35.26   | 2.320   | \n",
       "| G       | 2       |   43.41 | 44.56   | 2.310   | \n",
       "| H       | 1       |   32.00 | 34.05   | 4.330   | \n",
       "| H       | 2       |   71.61 | 32.45   | 5.450   | \n",
       "| I       | 1       |   68.33 | 24.15   | 3.440   | \n",
       "| I       | 2       |   29.74 | 27.06   | 3.840   | \n",
       "| J       | 1       |   29.53 | 54.29   | 2.830   | \n",
       "| J       | 2       |   70.53 | 55.43   | 3.630   | \n",
       "| K       | 1       |   54.70 | 44.55   | 5.330   | \n",
       "| K       | 2       |   64.28 | 43.45   | 5.280   | \n",
       "| L       | 1       |   58.77 | 45.05   | 2.525   | \n",
       "| L       | 2       |   73.21 | 46.35   | 3.300   | \n",
       "| LL      | 1       |   36.21 | 54.10   | 3.200   | \n",
       "| LL      | 2       |   43.32 | 55.14   | 2.400   | \n",
       "| M       | 1       |   66.81 | 34.83   | 1.380   | \n",
       "| M       | 2       |   29.52 | 34.63   | 2.330   | \n",
       "| N       | 1       |   52.50 | 22.83   | 3.250   | \n",
       "| N       | 2       |   18.57 | 23.60   | 2.250   | \n",
       "| O       | 1       |   29.17 | 25.05   | 1.400   | \n",
       "| O       | 2       |   20.73 | 24.23   | 4.300   | \n",
       "| P       | 1       |   16.67 | 23.72   | 3.900   | \n",
       "| P       | 2       |   25.61 | 25.48   | 3.800   | \n",
       "| Q       | 1       |   25.00 | 44.33   | 1.330   | \n",
       "| Q       | 2       |   17.50 | 53.30   | 1.420   | \n",
       "| R       | 1       |   19.15 | 45.23   | 2.430   | \n",
       "| R       | 2       |   31.82 | 54.35   | 2.500   | \n",
       "| S       | 1       |   30.85 | 54.21   | 3.100   | \n",
       "| S       | 2       |   34.62 | 44.16   | 2.180   | \n",
       "\n",
       "\n"
      ],
      "text/plain": [
       "   clase repeticion variable1 variable2 variable3\n",
       "1  A     1            74.92   24.10     1.590    \n",
       "2  A     2            67.07   15.97     1.660    \n",
       "3  B     1            69.18   36.57     5.600    \n",
       "4  B     2            50.23   26.85     6.200    \n",
       "5  C     1            42.00   14.71     4.200    \n",
       "6  C     2            71.25   26.45     5.100    \n",
       "7  D     1            45.00   56.10     4.700    \n",
       "8  D     2            48.44   55.16     3.400    \n",
       "9  E     1            62.86   22.55     2.900    \n",
       "10 E     2            75.31   16.01     3.600    \n",
       "11 F     1            46.50   42.62     1.230    \n",
       "12 F     2          7765.00   44.85     2.550    \n",
       "13 G     1            40.59   35.26     2.320    \n",
       "14 G     2            43.41   44.56     2.310    \n",
       "15 H     1            32.00   34.05     4.330    \n",
       "16 H     2            71.61   32.45     5.450    \n",
       "17 I     1            68.33   24.15     3.440    \n",
       "18 I     2            29.74   27.06     3.840    \n",
       "19 J     1            29.53   54.29     2.830    \n",
       "20 J     2            70.53   55.43     3.630    \n",
       "21 K     1            54.70   44.55     5.330    \n",
       "22 K     2            64.28   43.45     5.280    \n",
       "23 L     1            58.77   45.05     2.525    \n",
       "24 L     2            73.21   46.35     3.300    \n",
       "25 LL    1            36.21   54.10     3.200    \n",
       "26 LL    2            43.32   55.14     2.400    \n",
       "27 M     1            66.81   34.83     1.380    \n",
       "28 M     2            29.52   34.63     2.330    \n",
       "29 N     1            52.50   22.83     3.250    \n",
       "30 N     2            18.57   23.60     2.250    \n",
       "31 O     1            29.17   25.05     1.400    \n",
       "32 O     2            20.73   24.23     4.300    \n",
       "33 P     1            16.67   23.72     3.900    \n",
       "34 P     2            25.61   25.48     3.800    \n",
       "35 Q     1            25.00   44.33     1.330    \n",
       "36 Q     2            17.50   53.30     1.420    \n",
       "37 R     1            19.15   45.23     2.430    \n",
       "38 R     2            31.82   54.35     2.500    \n",
       "39 S     1            30.85   54.21     3.100    \n",
       "40 S     2            34.62   44.16     2.180    "
      ]
     },
     "metadata": {},
     "output_type": "display_data"
    }
   ],
   "source": [
    "read.table('../data/data.csv', sep=',', header = TRUE)"
   ]
  },
  {
   "cell_type": "markdown",
   "metadata": {},
   "source": [
    "La función `read.table()` define un conjunto de parámetros utilizados como argumentos, los cuales debemos indicar. \n",
    "\n",
    "Observe que en el daso de ejemplo con el archivo *data.csv*,  se indican los parámetros `sep = ','` y `header = TRUE` además del primer parámetro indicando la ubicación del archivo `'../data/data.csv'`."
   ]
  },
  {
   "cell_type": "markdown",
   "metadata": {},
   "source": [
    "## 2. Descripción de los datos"
   ]
  },
  {
   "cell_type": "markdown",
   "metadata": {},
   "source": [
    "Una de las primeras actividades luego de la lectura de los datos, es el análisis de los datos. \n",
    "\n",
    "Comencemos almacenando los datos leídos en una variable para su posterior manipulación."
   ]
  },
  {
   "cell_type": "code",
   "execution_count": 13,
   "metadata": {
    "collapsed": true
   },
   "outputs": [],
   "source": [
    "data <- read.table('../data/data.csv', sep=',', header = TRUE)"
   ]
  },
  {
   "cell_type": "markdown",
   "metadata": {},
   "source": [
    "Para comenzar con la descripción de los datos, R dispone de la función `summary()` la cual imprime una descripción genera de la variable indicada como parámetro.\n",
    "\n",
    "En nuestro ejemplo, la aplicación de summary sobre los datos nos devolverá una breve descripción del contenido del data frame por cada una de sus variables."
   ]
  },
  {
   "cell_type": "code",
   "execution_count": 31,
   "metadata": {
    "scrolled": false
   },
   "outputs": [
    {
     "data": {
      "text/plain": [
       "     clase      repeticion    variable1         variable2       variable3    \n",
       " A      : 2   Min.   :1.0   Min.   :  16.67   Min.   :14.71   Min.   :1.230  \n",
       " B      : 2   1st Qu.:1.0   1st Qu.:  29.69   1st Qu.:24.84   1st Qu.:2.317  \n",
       " C      : 2   Median :1.5   Median :  44.20   Median :35.91   Median :3.150  \n",
       " D      : 2   Mean   :1.5   Mean   : 238.81   Mean   :37.19   Mean   :3.212  \n",
       " E      : 2   3rd Qu.:2.0   3rd Qu.:  66.88   3rd Qu.:45.51   3rd Qu.:3.975  \n",
       " F      : 2   Max.   :2.0   Max.   :7765.00   Max.   :56.10   Max.   :6.200  \n",
       " (Other):28                                                                  "
      ]
     },
     "metadata": {},
     "output_type": "display_data"
    }
   ],
   "source": [
    "summary(data)"
   ]
  },
  {
   "cell_type": "markdown",
   "metadata": {},
   "source": [
    "Como podemos observar, la variable *clase* es categórica, mientras que las restantes son numérica entera en el caso de *repetición* y numérica flotante para *variable1*, *variable2*, y *variable3*. "
   ]
  },
  {
   "cell_type": "markdown",
   "metadata": {},
   "source": [
    "Veamos ahora qué otro proceso podemos aplicar a nuestros datos. \n",
    "\n",
    "Recordemos la definición de nuestra función `normalizar`."
   ]
  },
  {
   "cell_type": "code",
   "execution_count": 77,
   "metadata": {
    "collapsed": true
   },
   "outputs": [],
   "source": [
    "normalizar <- function(datos)\n",
    "    {    \n",
    "    #1. Obtener un conjunto de datos\n",
    "    #Definido en el parámetro 'datos'\n",
    "\n",
    "    #2. Procesar los datos obtenidos\n",
    "    datos_procesados <- datos / max(datos)\n",
    "\n",
    "    #3. Mostrar resultados del procesamiento\n",
    "    return(datos_procesados)\n",
    "}"
   ]
  },
  {
   "cell_type": "markdown",
   "metadata": {},
   "source": [
    "Supongamos que deseamos aplicar esta función `normalizar` a las variables numéricas del conjunto de datos en el data frame *data*.\n",
    "\n",
    "Para ello, R presenta una función `apply`. Veamos su definición."
   ]
  },
  {
   "cell_type": "code",
   "execution_count": 78,
   "metadata": {
    "collapsed": true
   },
   "outputs": [],
   "source": [
    "?tapply"
   ]
  },
  {
   "cell_type": "markdown",
   "metadata": {},
   "source": [
    "Utilizaremos los parámetros *X*, *INDEX*, y *FUN* de la siguiente manera."
   ]
  },
  {
   "cell_type": "code",
   "execution_count": 80,
   "metadata": {
    "scrolled": false
   },
   "outputs": [
    {
     "data": {
      "text/html": [
       "<dl>\n",
       "\t<dt>$A</dt>\n",
       "\t\t<dd><ol class=list-inline>\n",
       "\t<li>1</li>\n",
       "\t<li>0.895221569674319</li>\n",
       "</ol>\n",
       "</dd>\n",
       "\t<dt>$B</dt>\n",
       "\t\t<dd><ol class=list-inline>\n",
       "\t<li>1</li>\n",
       "\t<li>0.726076900838392</li>\n",
       "</ol>\n",
       "</dd>\n",
       "\t<dt>$C</dt>\n",
       "\t\t<dd><ol class=list-inline>\n",
       "\t<li>0.589473684210526</li>\n",
       "\t<li>1</li>\n",
       "</ol>\n",
       "</dd>\n",
       "\t<dt>$D</dt>\n",
       "\t\t<dd><ol class=list-inline>\n",
       "\t<li>0.928984310487201</li>\n",
       "\t<li>1</li>\n",
       "</ol>\n",
       "</dd>\n",
       "\t<dt>$E</dt>\n",
       "\t\t<dd><ol class=list-inline>\n",
       "\t<li>0.83468330898951</li>\n",
       "\t<li>1</li>\n",
       "</ol>\n",
       "</dd>\n",
       "\t<dt>$F</dt>\n",
       "\t\t<dd><ol class=list-inline>\n",
       "\t<li>0.00598840952994205</li>\n",
       "\t<li>1</li>\n",
       "</ol>\n",
       "</dd>\n",
       "\t<dt>$G</dt>\n",
       "\t\t<dd><ol class=list-inline>\n",
       "\t<li>0.93503800967519</li>\n",
       "\t<li>1</li>\n",
       "</ol>\n",
       "</dd>\n",
       "\t<dt>$H</dt>\n",
       "\t\t<dd><ol class=list-inline>\n",
       "\t<li>0.446864962993995</li>\n",
       "\t<li>1</li>\n",
       "</ol>\n",
       "</dd>\n",
       "\t<dt>$I</dt>\n",
       "\t\t<dd><ol class=list-inline>\n",
       "\t<li>1</li>\n",
       "\t<li>0.4352407434509</li>\n",
       "</ol>\n",
       "</dd>\n",
       "\t<dt>$J</dt>\n",
       "\t\t<dd><ol class=list-inline>\n",
       "\t<li>0.418687083510563</li>\n",
       "\t<li>1</li>\n",
       "</ol>\n",
       "</dd>\n",
       "\t<dt>$K</dt>\n",
       "\t\t<dd><ol class=list-inline>\n",
       "\t<li>0.85096453018046</li>\n",
       "\t<li>1</li>\n",
       "</ol>\n",
       "</dd>\n",
       "\t<dt>$L</dt>\n",
       "\t\t<dd><ol class=list-inline>\n",
       "\t<li>0.802759185903565</li>\n",
       "\t<li>1</li>\n",
       "</ol>\n",
       "</dd>\n",
       "\t<dt>$LL</dt>\n",
       "\t\t<dd><ol class=list-inline>\n",
       "\t<li>0.835872576177285</li>\n",
       "\t<li>1</li>\n",
       "</ol>\n",
       "</dd>\n",
       "\t<dt>$M</dt>\n",
       "\t\t<dd><ol class=list-inline>\n",
       "\t<li>1</li>\n",
       "\t<li>0.441850022451729</li>\n",
       "</ol>\n",
       "</dd>\n",
       "\t<dt>$N</dt>\n",
       "\t\t<dd><ol class=list-inline>\n",
       "\t<li>1</li>\n",
       "\t<li>0.353714285714286</li>\n",
       "</ol>\n",
       "</dd>\n",
       "\t<dt>$O</dt>\n",
       "\t\t<dd><ol class=list-inline>\n",
       "\t<li>1</li>\n",
       "\t<li>0.710661638669866</li>\n",
       "</ol>\n",
       "</dd>\n",
       "\t<dt>$P</dt>\n",
       "\t\t<dd><ol class=list-inline>\n",
       "\t<li>0.650917610308473</li>\n",
       "\t<li>1</li>\n",
       "</ol>\n",
       "</dd>\n",
       "\t<dt>$Q</dt>\n",
       "\t\t<dd><ol class=list-inline>\n",
       "\t<li>1</li>\n",
       "\t<li>0.7</li>\n",
       "</ol>\n",
       "</dd>\n",
       "\t<dt>$R</dt>\n",
       "\t\t<dd><ol class=list-inline>\n",
       "\t<li>0.601822752985544</li>\n",
       "\t<li>1</li>\n",
       "</ol>\n",
       "</dd>\n",
       "\t<dt>$S</dt>\n",
       "\t\t<dd><ol class=list-inline>\n",
       "\t<li>0.891103408434431</li>\n",
       "\t<li>1</li>\n",
       "</ol>\n",
       "</dd>\n",
       "</dl>\n"
      ],
      "text/latex": [
       "\\begin{description}\n",
       "\\item[\\$A] \\begin{enumerate*}\n",
       "\\item 1\n",
       "\\item 0.895221569674319\n",
       "\\end{enumerate*}\n",
       "\n",
       "\\item[\\$B] \\begin{enumerate*}\n",
       "\\item 1\n",
       "\\item 0.726076900838392\n",
       "\\end{enumerate*}\n",
       "\n",
       "\\item[\\$C] \\begin{enumerate*}\n",
       "\\item 0.589473684210526\n",
       "\\item 1\n",
       "\\end{enumerate*}\n",
       "\n",
       "\\item[\\$D] \\begin{enumerate*}\n",
       "\\item 0.928984310487201\n",
       "\\item 1\n",
       "\\end{enumerate*}\n",
       "\n",
       "\\item[\\$E] \\begin{enumerate*}\n",
       "\\item 0.83468330898951\n",
       "\\item 1\n",
       "\\end{enumerate*}\n",
       "\n",
       "\\item[\\$F] \\begin{enumerate*}\n",
       "\\item 0.00598840952994205\n",
       "\\item 1\n",
       "\\end{enumerate*}\n",
       "\n",
       "\\item[\\$G] \\begin{enumerate*}\n",
       "\\item 0.93503800967519\n",
       "\\item 1\n",
       "\\end{enumerate*}\n",
       "\n",
       "\\item[\\$H] \\begin{enumerate*}\n",
       "\\item 0.446864962993995\n",
       "\\item 1\n",
       "\\end{enumerate*}\n",
       "\n",
       "\\item[\\$I] \\begin{enumerate*}\n",
       "\\item 1\n",
       "\\item 0.4352407434509\n",
       "\\end{enumerate*}\n",
       "\n",
       "\\item[\\$J] \\begin{enumerate*}\n",
       "\\item 0.418687083510563\n",
       "\\item 1\n",
       "\\end{enumerate*}\n",
       "\n",
       "\\item[\\$K] \\begin{enumerate*}\n",
       "\\item 0.85096453018046\n",
       "\\item 1\n",
       "\\end{enumerate*}\n",
       "\n",
       "\\item[\\$L] \\begin{enumerate*}\n",
       "\\item 0.802759185903565\n",
       "\\item 1\n",
       "\\end{enumerate*}\n",
       "\n",
       "\\item[\\$LL] \\begin{enumerate*}\n",
       "\\item 0.835872576177285\n",
       "\\item 1\n",
       "\\end{enumerate*}\n",
       "\n",
       "\\item[\\$M] \\begin{enumerate*}\n",
       "\\item 1\n",
       "\\item 0.441850022451729\n",
       "\\end{enumerate*}\n",
       "\n",
       "\\item[\\$N] \\begin{enumerate*}\n",
       "\\item 1\n",
       "\\item 0.353714285714286\n",
       "\\end{enumerate*}\n",
       "\n",
       "\\item[\\$O] \\begin{enumerate*}\n",
       "\\item 1\n",
       "\\item 0.710661638669866\n",
       "\\end{enumerate*}\n",
       "\n",
       "\\item[\\$P] \\begin{enumerate*}\n",
       "\\item 0.650917610308473\n",
       "\\item 1\n",
       "\\end{enumerate*}\n",
       "\n",
       "\\item[\\$Q] \\begin{enumerate*}\n",
       "\\item 1\n",
       "\\item 0.7\n",
       "\\end{enumerate*}\n",
       "\n",
       "\\item[\\$R] \\begin{enumerate*}\n",
       "\\item 0.601822752985544\n",
       "\\item 1\n",
       "\\end{enumerate*}\n",
       "\n",
       "\\item[\\$S] \\begin{enumerate*}\n",
       "\\item 0.891103408434431\n",
       "\\item 1\n",
       "\\end{enumerate*}\n",
       "\n",
       "\\end{description}\n"
      ],
      "text/markdown": [
       "$A\n",
       ":   1. 1\n",
       "2. 0.895221569674319\n",
       "\n",
       "\n",
       "\n",
       "$B\n",
       ":   1. 1\n",
       "2. 0.726076900838392\n",
       "\n",
       "\n",
       "\n",
       "$C\n",
       ":   1. 0.589473684210526\n",
       "2. 1\n",
       "\n",
       "\n",
       "\n",
       "$D\n",
       ":   1. 0.928984310487201\n",
       "2. 1\n",
       "\n",
       "\n",
       "\n",
       "$E\n",
       ":   1. 0.83468330898951\n",
       "2. 1\n",
       "\n",
       "\n",
       "\n",
       "$F\n",
       ":   1. 0.00598840952994205\n",
       "2. 1\n",
       "\n",
       "\n",
       "\n",
       "$G\n",
       ":   1. 0.93503800967519\n",
       "2. 1\n",
       "\n",
       "\n",
       "\n",
       "$H\n",
       ":   1. 0.446864962993995\n",
       "2. 1\n",
       "\n",
       "\n",
       "\n",
       "$I\n",
       ":   1. 1\n",
       "2. 0.4352407434509\n",
       "\n",
       "\n",
       "\n",
       "$J\n",
       ":   1. 0.418687083510563\n",
       "2. 1\n",
       "\n",
       "\n",
       "\n",
       "$K\n",
       ":   1. 0.85096453018046\n",
       "2. 1\n",
       "\n",
       "\n",
       "\n",
       "$L\n",
       ":   1. 0.802759185903565\n",
       "2. 1\n",
       "\n",
       "\n",
       "\n",
       "$LL\n",
       ":   1. 0.835872576177285\n",
       "2. 1\n",
       "\n",
       "\n",
       "\n",
       "$M\n",
       ":   1. 1\n",
       "2. 0.441850022451729\n",
       "\n",
       "\n",
       "\n",
       "$N\n",
       ":   1. 1\n",
       "2. 0.353714285714286\n",
       "\n",
       "\n",
       "\n",
       "$O\n",
       ":   1. 1\n",
       "2. 0.710661638669866\n",
       "\n",
       "\n",
       "\n",
       "$P\n",
       ":   1. 0.650917610308473\n",
       "2. 1\n",
       "\n",
       "\n",
       "\n",
       "$Q\n",
       ":   1. 1\n",
       "2. 0.7\n",
       "\n",
       "\n",
       "\n",
       "$R\n",
       ":   1. 0.601822752985544\n",
       "2. 1\n",
       "\n",
       "\n",
       "\n",
       "$S\n",
       ":   1. 0.891103408434431\n",
       "2. 1\n",
       "\n",
       "\n",
       "\n",
       "\n",
       "\n"
      ],
      "text/plain": [
       "$A\n",
       "[1] 1.0000000 0.8952216\n",
       "\n",
       "$B\n",
       "[1] 1.0000000 0.7260769\n",
       "\n",
       "$C\n",
       "[1] 0.5894737 1.0000000\n",
       "\n",
       "$D\n",
       "[1] 0.9289843 1.0000000\n",
       "\n",
       "$E\n",
       "[1] 0.8346833 1.0000000\n",
       "\n",
       "$F\n",
       "[1] 0.00598841 1.00000000\n",
       "\n",
       "$G\n",
       "[1] 0.935038 1.000000\n",
       "\n",
       "$H\n",
       "[1] 0.446865 1.000000\n",
       "\n",
       "$I\n",
       "[1] 1.0000000 0.4352407\n",
       "\n",
       "$J\n",
       "[1] 0.4186871 1.0000000\n",
       "\n",
       "$K\n",
       "[1] 0.8509645 1.0000000\n",
       "\n",
       "$L\n",
       "[1] 0.8027592 1.0000000\n",
       "\n",
       "$LL\n",
       "[1] 0.8358726 1.0000000\n",
       "\n",
       "$M\n",
       "[1] 1.00000 0.44185\n",
       "\n",
       "$N\n",
       "[1] 1.0000000 0.3537143\n",
       "\n",
       "$O\n",
       "[1] 1.0000000 0.7106616\n",
       "\n",
       "$P\n",
       "[1] 0.6509176 1.0000000\n",
       "\n",
       "$Q\n",
       "[1] 1.0 0.7\n",
       "\n",
       "$R\n",
       "[1] 0.6018228 1.0000000\n",
       "\n",
       "$S\n",
       "[1] 0.8911034 1.0000000\n"
      ]
     },
     "metadata": {},
     "output_type": "display_data"
    }
   ],
   "source": [
    "tapply(X = data$variable1, INDEX = data$clase, FUN = normalizar)"
   ]
  },
  {
   "cell_type": "markdown",
   "metadata": {},
   "source": [
    "Como podemos observar, el resultado de aplicar `tapply` a `variable1` agrupado por `clase` nos devuelve los valores normalizados de la variable por cada clase.  "
   ]
  },
  {
   "cell_type": "markdown",
   "metadata": {},
   "source": [
    "## Tu turno!"
   ]
  },
  {
   "cell_type": "markdown",
   "metadata": {},
   "source": [
    "Modifica los parámetros de la función `tapply` de modo que el resultado sea la suma de los datos en la `variable3`, agrupados por `clase`.\n",
    "\n",
    "**Nota**: Recuerde que la función suma está definida como `sum`"
   ]
  },
  {
   "cell_type": "code",
   "execution_count": null,
   "metadata": {
    "scrolled": true
   },
   "outputs": [],
   "source": [
    "#Modicar los parámetros de la función tapply de acuerdo a la consigna\n",
    "\n",
    "tapply(X = , INDEX = , FUN = ) # COMPLETAR los parámetros de la función"
   ]
  },
  {
   "cell_type": "markdown",
   "metadata": {},
   "source": [
    "## 3. Escritura de archivos de datos"
   ]
  },
  {
   "cell_type": "markdown",
   "metadata": {},
   "source": [
    "Al igual que para la lectura de archivos, R define varias alternativas para la escritura de archivos de datos. \n",
    "\n",
    "Veamos a continuacion la función `write.csv`"
   ]
  },
  {
   "cell_type": "code",
   "execution_count": 92,
   "metadata": {
    "collapsed": true
   },
   "outputs": [],
   "source": [
    "?write.csv"
   ]
  },
  {
   "cell_type": "markdown",
   "metadata": {},
   "source": [
    "En este caso, haremos uso de los parámetros *x* y *file* para indicar los datos a guardar y el nombre del archivo correspondiente."
   ]
  },
  {
   "cell_type": "code",
   "execution_count": 93,
   "metadata": {},
   "outputs": [],
   "source": [
    "data_var1_sum = tapply(data$variable1, INDEX = data$clase, FUN = sum)\n",
    "\n",
    "write.csv(x = data_var1_sum, file = '../data/data_var1_sum.csv')"
   ]
  },
  {
   "cell_type": "markdown",
   "metadata": {},
   "source": [
    "Ahora podemos confirmar la existencia del archivo *data_var1_sum.csv* en la carpeta *data*"
   ]
  },
  {
   "cell_type": "code",
   "execution_count": 97,
   "metadata": {},
   "outputs": [
    {
     "data": {
      "text/html": [
       "<ol class=list-inline>\n",
       "\t<li>'data.csv'</li>\n",
       "\t<li>'data_var1_sum.csv'</li>\n",
       "</ol>\n"
      ],
      "text/latex": [
       "\\begin{enumerate*}\n",
       "\\item 'data.csv'\n",
       "\\item 'data\\_var1\\_sum.csv'\n",
       "\\end{enumerate*}\n"
      ],
      "text/markdown": [
       "1. 'data.csv'\n",
       "2. 'data_var1_sum.csv'\n",
       "\n",
       "\n"
      ],
      "text/plain": [
       "[1] \"data.csv\"          \"data_var1_sum.csv\""
      ]
     },
     "metadata": {},
     "output_type": "display_data"
    }
   ],
   "source": [
    "list.files('../data')"
   ]
  }
 ],
 "metadata": {
  "kernelspec": {
   "display_name": "R",
   "language": "R",
   "name": "ir"
  },
  "language_info": {
   "codemirror_mode": "r",
   "file_extension": ".r",
   "mimetype": "text/x-r-source",
   "name": "R",
   "pygments_lexer": "r",
   "version": "3.2.3"
  }
 },
 "nbformat": 4,
 "nbformat_minor": 2
}
