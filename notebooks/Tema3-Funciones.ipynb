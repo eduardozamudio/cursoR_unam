{
 "cells": [
  {
   "cell_type": "markdown",
   "metadata": {},
   "source": [
    "# Trabajo práctico N° 3"
   ]
  },
  {
   "cell_type": "markdown",
   "metadata": {},
   "source": [
    "En este TP se ejercitarán los siguientes objetivos:\n",
    "* Comprender el concepto de **función**\n",
    "* Reconocer los componentes de una función\n",
    "* Reconocer la importancia de la organización de una función "
   ]
  },
  {
   "cell_type": "markdown",
   "metadata": {},
   "source": [
    "Este TP contiene los siguientes temas:\n",
    "1. Definiendo el script\n",
    "2. El método 'function()'\n",
    "3. Documentando la función"
   ]
  },
  {
   "cell_type": "markdown",
   "metadata": {},
   "source": [
    "## 1. Definiendo el script"
   ]
  },
  {
   "cell_type": "markdown",
   "metadata": {},
   "source": [
    "Se define un script con un conjunto de instrucciones que son ejecutadas en forma secuencial por R."
   ]
  },
  {
   "cell_type": "markdown",
   "metadata": {},
   "source": [
    "Un caso típico de un script implica las siguientes tareas:\n",
    "\n",
    "1. Obtener un conjunto de datos\n",
    "2. Procesar los datos obtenidos\n",
    "3. Mostrar resultados del procesamiento"
   ]
  },
  {
   "cell_type": "markdown",
   "metadata": {},
   "source": [
    "Supongamos que debemos procesar un conjunto de datos numéricos de modo tal que los mismos sean *normalizados*. \n",
    "En nuestro caso, la normalización implica la expresión de datos numéricos en la escala [0,1].\n",
    "\n",
    "Para esto, un script de ejemplo se definiría como:"
   ]
  },
  {
   "cell_type": "code",
   "execution_count": 14,
   "metadata": {},
   "outputs": [
    {
     "name": "stdout",
     "output_type": "stream",
     "text": [
      "[1] 0.2 0.4 0.6 0.8 1.0\n"
     ]
    }
   ],
   "source": [
    "# Script de ejemplo. Normalización de datos numéricos\n",
    "\n",
    "#1. Obtener un conjunto de datos\n",
    "datos <- c(1,2,3,4,5) #Generar un vector de prueba\n",
    "\n",
    "#2. Procesar los datos obtenidos\n",
    "datos_procesados <- datos / max(datos) #Normalizar los datos\n",
    "\n",
    "#3. Mostrar resultados del procesamiento\n",
    "print(datos_procesados) #Imprimir el resultado en pantalla"
   ]
  },
  {
   "cell_type": "markdown",
   "metadata": {},
   "source": [
    "Sin embargo, los datos podrían requerir un proceso más complejo. \n",
    "\n",
    "Considere el siguiente ejemplo.\n",
    "Además de la normalización, es necesario que los datos sean multiplicados por algún factor de ajuste. \n",
    "\n",
    "Veamos el ejemplo a continuación"
   ]
  },
  {
   "cell_type": "code",
   "execution_count": 18,
   "metadata": {},
   "outputs": [
    {
     "name": "stdout",
     "output_type": "stream",
     "text": [
      "[1] 0.1 0.2 0.3 0.4 0.5\n"
     ]
    }
   ],
   "source": [
    "# Script de ejemplo. Normalización de datos numéricos con factor de ajuste\n",
    "\n",
    "#1. Obtener un conjunto de datos\n",
    "datos <- c(1,2,3,4,5)\n",
    "\n",
    "#2. Procesar los datos obtenidos\n",
    "ajuste <- 0.5 #Definir un factor de ajuste\n",
    "\n",
    "datos_procesados <- datos / max(datos)\n",
    "datos_procesados <- datos_procesados * ajuste #Aplicar el factor de ajuste \n",
    "\n",
    "#3. Mostrar resultados del procesamiento\n",
    "print(datos_procesados)"
   ]
  },
  {
   "cell_type": "markdown",
   "metadata": {},
   "source": [
    "Los scripts permiten definir un conjunto de instrucciones, sin embargo, presentan algunas limitaciones\n",
    "\n",
    "En particular, los scripts son ejecuciones para casos únicos. Esto impide su generalización para otros casos similares, o su reutilización cuando deben realizarse varios procesamientos similares."
   ]
  },
  {
   "cell_type": "markdown",
   "metadata": {},
   "source": [
    "Otra limitación de los scripts, es la imposibilidad de dividir el problema en subproblemas más pequeños. "
   ]
  },
  {
   "cell_type": "markdown",
   "metadata": {},
   "source": [
    "Este tipo de inconvenientes son resueltas mediante las llamadas funciones. Veamos a continuación su definición."
   ]
  },
  {
   "cell_type": "markdown",
   "metadata": {},
   "source": [
    "## 1. El método function()\n"
   ]
  },
  {
   "cell_type": "markdown",
   "metadata": {},
   "source": [
    "Las funciones son estructuras de procesamiento que permiten generalizar un conjunto de instrucciones. "
   ]
  },
  {
   "cell_type": "markdown",
   "metadata": {},
   "source": [
    "Una función tiene un nombre, un conjunto de parámetros, una estructura interna de ejecución, y un valor de retorno. "
   ]
  },
  {
   "cell_type": "markdown",
   "metadata": {},
   "source": [
    "Supongamos el ejemplo anterior de la normalización de datos. \n",
    "\n",
    "Resulta que es necesario aplicar la normalización a 3 vectores distintos, definidos como:"
   ]
  },
  {
   "cell_type": "code",
   "execution_count": 28,
   "metadata": {},
   "outputs": [
    {
     "name": "stdout",
     "output_type": "stream",
     "text": [
      "[1] 2 4 5 8 6\n",
      "[1] 5 7 8 6 2\n",
      "[1] 8 4 1 3 2\n"
     ]
    }
   ],
   "source": [
    "datos_a <- sample(1:10, 5)\n",
    "datos_b <- sample(1:10, 5)\n",
    "datos_c <- sample(1:10, 5)\n",
    "\n",
    "print(datos_a)\n",
    "print(datos_b)\n",
    "print(datos_c)"
   ]
  },
  {
   "cell_type": "markdown",
   "metadata": {},
   "source": [
    "La normalización de los 3 vectores implicaría reiterar procesamiento para cada uno de ellos. \n",
    "\n",
    "Una alternativa implicaría la definición de una función como la siguiente."
   ]
  },
  {
   "cell_type": "code",
   "execution_count": 34,
   "metadata": {
    "collapsed": true
   },
   "outputs": [],
   "source": [
    "normalizar <- function(datos)\n",
    "    {\n",
    "    #Normaliza los datos e imprime el resultado\n",
    "    \n",
    "    #1. Obtener un conjunto de datos\n",
    "    #Se pasan como parámetro\n",
    "\n",
    "    #2. Procesar los datos obtenidos\n",
    "    ajuste <- 0.5 #Definir un factor de ajuste\n",
    "\n",
    "    datos_procesados <- datos / max(datos)\n",
    "    datos_procesados <- datos_procesados * ajuste #Aplicar el factor de ajuste \n",
    "\n",
    "    #3. Mostrar resultados del procesamiento\n",
    "    print(datos_procesados)\n",
    "}"
   ]
  },
  {
   "cell_type": "code",
   "execution_count": 33,
   "metadata": {},
   "outputs": [
    {
     "name": "stdout",
     "output_type": "stream",
     "text": [
      "[1] \"Los vectores normalizados son:\"\n",
      "[1] 0.1250 0.2500 0.3125 0.5000 0.3750\n",
      "[1] 0.3125 0.4375 0.5000 0.3750 0.1250\n",
      "[1] 0.5000 0.2500 0.0625 0.1875 0.1250\n"
     ]
    }
   ],
   "source": [
    "print(\"Los vectores normalizados son:\")\n",
    "normalizar(datos_a)\n",
    "normalizar(datos_b)\n",
    "normalizar(datos_c)"
   ]
  },
  {
   "cell_type": "code",
   "execution_count": null,
   "metadata": {
    "collapsed": true
   },
   "outputs": [],
   "source": []
  }
 ],
 "metadata": {
  "kernelspec": {
   "display_name": "R",
   "language": "R",
   "name": "ir"
  },
  "language_info": {
   "codemirror_mode": "r",
   "file_extension": ".r",
   "mimetype": "text/x-r-source",
   "name": "R",
   "pygments_lexer": "r",
   "version": "3.2.3"
  }
 },
 "nbformat": 4,
 "nbformat_minor": 2
}
